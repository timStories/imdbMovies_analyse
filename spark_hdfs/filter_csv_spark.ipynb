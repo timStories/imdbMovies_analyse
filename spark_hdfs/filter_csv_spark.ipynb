{
 "cells": [
  {
   "cell_type": "markdown",
   "id": "a669e1a4-4c61-480f-8958-807ed6a1e041",
   "metadata": {},
   "source": [
    "# Clean data\n",
    "\n",
    "## Sessionn aufbauen & einlesen"
   ]
  },
  {
   "cell_type": "code",
   "execution_count": 1,
   "id": "f433dcfd-ff16-4b69-b924-bc28b9cd4199",
   "metadata": {},
   "outputs": [],
   "source": [
    "hdfs_GrundPfad  = '/bigdata/'\n",
    "nb_Pfad         = '/home/alfa/BDS_Source/timsSparkSessions/'\n",
    "DatenPfad       = '/home/alfa/BDS_Source/timsSparkSessions/daten/'"
   ]
  },
  {
   "cell_type": "code",
   "execution_count": 2,
   "id": "78ee0c96-e7a6-4c9c-97e5-87f50a3404d1",
   "metadata": {},
   "outputs": [],
   "source": [
    "# Import SparkSession\n",
    "from pyspark.sql import SparkSession"
   ]
  },
  {
   "cell_type": "code",
   "execution_count": 3,
   "id": "5de694e2-71cd-4a54-9d0e-11efd0589a20",
   "metadata": {},
   "outputs": [
    {
     "name": "stderr",
     "output_type": "stream",
     "text": [
      "SLF4J: Class path contains multiple SLF4J bindings.\n",
      "SLF4J: Found binding in [jar:file:/opt/spark/jars/slf4j-log4j12-1.7.30.jar!/org/slf4j/impl/StaticLoggerBinder.class]\n",
      "SLF4J: Found binding in [jar:file:/opt/hadoop/share/hadoop/common/lib/slf4j-reload4j-1.7.35.jar!/org/slf4j/impl/StaticLoggerBinder.class]\n",
      "SLF4J: See http://www.slf4j.org/codes.html#multiple_bindings for an explanation.\n",
      "SLF4J: Actual binding is of type [org.slf4j.impl.Log4jLoggerFactory]\n",
      "2025-02-07 14:32:13,853 WARN util.Utils: Your hostname, Tims-PC resolves to a loopback address: 127.0.1.1; using 10.255.255.254 instead (on interface lo)\n",
      "2025-02-07 14:32:13,854 WARN util.Utils: Set SPARK_LOCAL_IP if you need to bind to another address\n",
      "Setting default log level to \"WARN\".\n",
      "To adjust logging level use sc.setLogLevel(newLevel). For SparkR, use setLogLevel(newLevel).\n"
     ]
    }
   ],
   "source": [
    "# Create SparkSession \n",
    "spark = SparkSession.builder \\\n",
    "      .master(\"local[4]\") \\\n",
    "      .appName(\"SparkCSV\") \\\n",
    "      .getOrCreate()"
   ]
  },
  {
   "cell_type": "code",
   "execution_count": 4,
   "id": "d8c21851-84b7-4d6a-9904-506020ca0b87",
   "metadata": {},
   "outputs": [],
   "source": [
    "# Einlesen einer CSV-Datei aus dem HDFS\n",
    "hdfs_csv = \"hdfs://\" + hdfs_GrundPfad + \"movies_hdfs.csv\"\n",
    "\n",
    "# Use header record for column names\n",
    "df = spark.read \\\n",
    "           .option(\"header\",True) \\\n",
    "           .csv(hdfs_csv, escape='\"', inferSchema=True)\n",
    "\n",
    "# Transform release_date to date\n",
    "\n",
    "from pyspark.sql.functions import to_date\n",
    "\n",
    "df = df.withColumn(\"release_date\", to_date(df[\"release_date\"]))"
   ]
  },
  {
   "cell_type": "markdown",
   "id": "c4ebc725-94ec-4d01-8b71-c88cd15d2776",
   "metadata": {},
   "source": [
    "## Df erstellen\n",
    "\n",
    "Wir wollen jetzt das df filtern: nur Filme, deren vote_count > 50 ist. Ab da beginnen die etwas größeren Filme, mit teilweise >1 Mio Umsatz."
   ]
  },
  {
   "cell_type": "code",
   "execution_count": 17,
   "id": "8a13cc0a-e1ba-42d2-941b-72072e88894b",
   "metadata": {},
   "outputs": [],
   "source": [
    "from pyspark.sql.functions import col\n",
    "\n",
    "df_newbig = df.filter((col(\"vote_count\") > 50))"
   ]
  },
  {
   "cell_type": "code",
   "execution_count": 18,
   "id": "a88ba404-7308-4cb1-ae73-a33be870e4fe",
   "metadata": {},
   "outputs": [
    {
     "name": "stdout",
     "output_type": "stream",
     "text": [
      "27689\n",
      "root\n",
      " |-- id: integer (nullable = true)\n",
      " |-- title: string (nullable = true)\n",
      " |-- vote_average: double (nullable = true)\n",
      " |-- vote_count: integer (nullable = true)\n",
      " |-- status: string (nullable = true)\n",
      " |-- release_date: date (nullable = true)\n",
      " |-- revenue: long (nullable = true)\n",
      " |-- runtime: integer (nullable = true)\n",
      " |-- adult: boolean (nullable = true)\n",
      " |-- backdrop_path: string (nullable = true)\n",
      " |-- budget: integer (nullable = true)\n",
      " |-- homepage: string (nullable = true)\n",
      " |-- imdb_id: string (nullable = true)\n",
      " |-- original_language: string (nullable = true)\n",
      " |-- original_title: string (nullable = true)\n",
      " |-- overview: string (nullable = true)\n",
      " |-- popularity: double (nullable = true)\n",
      " |-- poster_path: string (nullable = true)\n",
      " |-- tagline: string (nullable = true)\n",
      " |-- genres: string (nullable = true)\n",
      " |-- production_companies: string (nullable = true)\n",
      " |-- production_countries: string (nullable = true)\n",
      " |-- spoken_languages: string (nullable = true)\n",
      " |-- keywords: string (nullable = true)\n",
      "\n"
     ]
    }
   ],
   "source": [
    "print(df_newbig.count())\n",
    "df_newbig.printSchema()"
   ]
  },
  {
   "cell_type": "markdown",
   "id": "69eb3d44-efd8-4ebe-8183-1ad6007c7000",
   "metadata": {},
   "source": [
    "Es gibt einige unnötige Spalten: \n",
    "\n",
    "backdrop_path\n",
    "imdb_id\n",
    "overview\n",
    "poster_path\n",
    "\n",
    "Die sind groß und bringen kaum Mehrwert. Rauswerfen!"
   ]
  },
  {
   "cell_type": "code",
   "execution_count": 19,
   "id": "8bd23c65-dde2-460e-bc45-b6d5c72f446c",
   "metadata": {},
   "outputs": [
    {
     "name": "stdout",
     "output_type": "stream",
     "text": [
      "27689\n",
      "root\n",
      " |-- id: integer (nullable = true)\n",
      " |-- title: string (nullable = true)\n",
      " |-- vote_average: double (nullable = true)\n",
      " |-- vote_count: integer (nullable = true)\n",
      " |-- status: string (nullable = true)\n",
      " |-- release_date: date (nullable = true)\n",
      " |-- revenue: long (nullable = true)\n",
      " |-- runtime: integer (nullable = true)\n",
      " |-- adult: boolean (nullable = true)\n",
      " |-- budget: integer (nullable = true)\n",
      " |-- homepage: string (nullable = true)\n",
      " |-- original_language: string (nullable = true)\n",
      " |-- original_title: string (nullable = true)\n",
      " |-- popularity: double (nullable = true)\n",
      " |-- tagline: string (nullable = true)\n",
      " |-- genres: string (nullable = true)\n",
      " |-- production_companies: string (nullable = true)\n",
      " |-- production_countries: string (nullable = true)\n",
      " |-- spoken_languages: string (nullable = true)\n",
      " |-- keywords: string (nullable = true)\n",
      "\n"
     ]
    }
   ],
   "source": [
    "# List of columns to drop\n",
    "columns_to_drop = ['backdrop_path', 'imdb_id', 'overview', 'poster_path']\n",
    "\n",
    "# Drop the columns from the DataFrame\n",
    "df_newbig = df_newbig.drop(*columns_to_drop)\n",
    "\n",
    "print(df_newbig.count())\n",
    "df_newbig.printSchema()"
   ]
  },
  {
   "cell_type": "markdown",
   "id": "76471ffc-d551-4938-a63f-3f8e8cc52c13",
   "metadata": {},
   "source": [
    ">spark_df in pandas_df umwandeln und daraus csv erstellen"
   ]
  },
  {
   "cell_type": "code",
   "execution_count": 20,
   "id": "eb7094e5-f33a-435e-818c-ec9dc6ddbb66",
   "metadata": {},
   "outputs": [
    {
     "name": "stdout",
     "output_type": "stream",
     "text": [
      "       id            title  vote_average  vote_count    status release_date  \\\n",
      "0   27205        Inception         8.364       34495  Released   2010-07-15   \n",
      "1  157336     Interstellar         8.417       32571  Released   2014-11-05   \n",
      "2     155  The Dark Knight         8.512       30619  Released   2008-07-16   \n",
      "3   19995           Avatar         7.573       29815  Released   2009-12-15   \n",
      "4   24428     The Avengers         7.710       29166  Released   2012-04-25   \n",
      "\n",
      "      revenue  runtime  adult     budget  \\\n",
      "0   825532764      148  False  160000000   \n",
      "1   701729206      169  False  165000000   \n",
      "2  1004558444      152  False  185000000   \n",
      "3  2923706026      162  False  237000000   \n",
      "4  1518815515      143  False  220000000   \n",
      "\n",
      "                                         homepage original_language  \\\n",
      "0     https://www.warnerbros.com/movies/inception                en   \n",
      "1               http://www.interstellarmovie.net/                en   \n",
      "2  https://www.warnerbros.com/movies/dark-knight/                en   \n",
      "3            https://www.avatar.com/movies/avatar                en   \n",
      "4      https://www.marvel.com/movies/the-avengers                en   \n",
      "\n",
      "    original_title  popularity  \\\n",
      "0        Inception      83.952   \n",
      "1     Interstellar     140.241   \n",
      "2  The Dark Knight     130.643   \n",
      "3           Avatar      79.932   \n",
      "4     The Avengers      98.082   \n",
      "\n",
      "                                             tagline  \\\n",
      "0               Your mind is the scene of the crime.   \n",
      "1  Mankind was born on Earth. It was never meant ...   \n",
      "2                  Welcome to a world without rules.   \n",
      "3                        Enter the world of Pandora.   \n",
      "4                            Some assembly required.   \n",
      "\n",
      "                                        genres  \\\n",
      "0           Action, Science Fiction, Adventure   \n",
      "1            Adventure, Drama, Science Fiction   \n",
      "2               Drama, Action, Crime, Thriller   \n",
      "3  Action, Adventure, Fantasy, Science Fiction   \n",
      "4           Science Fiction, Action, Adventure   \n",
      "\n",
      "                                production_companies  \\\n",
      "0  Legendary Pictures, Syncopy, Warner Bros. Pict...   \n",
      "1  Legendary Pictures, Syncopy, Lynda Obst Produc...   \n",
      "2  DC Comics, Legendary Pictures, Syncopy, Isobel...   \n",
      "3  Dune Entertainment, Lightstorm Entertainment, ...   \n",
      "4                                     Marvel Studios   \n",
      "\n",
      "                       production_countries  \\\n",
      "0  United Kingdom, United States of America   \n",
      "1  United Kingdom, United States of America   \n",
      "2  United Kingdom, United States of America   \n",
      "3  United States of America, United Kingdom   \n",
      "4                  United States of America   \n",
      "\n",
      "                     spoken_languages  \\\n",
      "0  English, French, Japanese, Swahili   \n",
      "1                             English   \n",
      "2                   English, Mandarin   \n",
      "3                    English, Spanish   \n",
      "4             English, Hindi, Russian   \n",
      "\n",
      "                                            keywords  \n",
      "0  rescue, mission, dream, airplane, paris, franc...  \n",
      "1  rescue, future, spacecraft, race against time,...  \n",
      "2  joker, sadism, chaos, secret identity, crime f...  \n",
      "3  future, society, culture clash, space travel, ...  \n",
      "4  new york city, superhero, shield, based on com...  \n"
     ]
    }
   ],
   "source": [
    "# Convert Spark DataFrame to pandas DataFrame\n",
    "pandas_df = df_newbig.toPandas()\n",
    "\n",
    "# Display the pandas DataFrame\n",
    "print(pandas_df.head())"
   ]
  },
  {
   "cell_type": "code",
   "execution_count": 22,
   "id": "f2efd906-662f-4721-b845-c77cf38305fc",
   "metadata": {},
   "outputs": [
    {
     "name": "stdout",
     "output_type": "stream",
     "text": [
      "CSV file has been saved to './daten/movies.csv'\n"
     ]
    }
   ],
   "source": [
    "# Convert pandas DataFrame to CSV and save to the specified directory\n",
    "pandas_df.to_csv('./daten/movies.csv', index=False)\n",
    "\n",
    "# Display a message indicating the file has been saved\n",
    "print(\"CSV file has been saved to './daten/movies.csv'\")"
   ]
  },
  {
   "cell_type": "code",
   "execution_count": null,
   "id": "6141ad9d-407b-4442-980f-523556018be3",
   "metadata": {},
   "outputs": [],
   "source": []
  }
 ],
 "metadata": {
  "kernelspec": {
   "display_name": "Python 3 (ipykernel)",
   "language": "python",
   "name": "python3"
  },
  "language_info": {
   "codemirror_mode": {
    "name": "ipython",
    "version": 3
   },
   "file_extension": ".py",
   "mimetype": "text/x-python",
   "name": "python",
   "nbconvert_exporter": "python",
   "pygments_lexer": "ipython3",
   "version": "3.10.12"
  }
 },
 "nbformat": 4,
 "nbformat_minor": 5
}
